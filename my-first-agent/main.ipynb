{
 "cells": [
  {
   "metadata": {
    "ExecuteTime": {
     "end_time": "2025-10-26T09:03:17.405050Z",
     "start_time": "2025-10-26T09:03:17.390176Z"
    }
   },
   "cell_type": "code",
   "source": [
    "import openai, json\n",
    "from openai.types.chat import ChatCompletionMessage\n",
    "\n",
    "client = openai.OpenAI()\n",
    "messages = []\n"
   ],
   "id": "24b98af2ea67268c",
   "outputs": [],
   "execution_count": 58
  },
  {
   "metadata": {
    "ExecuteTime": {
     "end_time": "2025-10-26T09:03:17.658737Z",
     "start_time": "2025-10-26T09:03:17.656518Z"
    }
   },
   "cell_type": "code",
   "source": [
    "def get_weather(city):\n",
    "    return '15 degrees Celsius.'\n",
    "\n",
    "\n",
    "FUNCTION_MAP = {\n",
    "    \"get_weather\": get_weather\n",
    "}"
   ],
   "id": "e974120eef21e09c",
   "outputs": [],
   "execution_count": 59
  },
  {
   "metadata": {
    "ExecuteTime": {
     "end_time": "2025-10-26T09:03:17.922526Z",
     "start_time": "2025-10-26T09:03:17.918607Z"
    }
   },
   "cell_type": "code",
   "source": [
    "TOOLS = [\n",
    "    {\n",
    "        \"type\": \"function\",\n",
    "        \"function\": {\n",
    "            \"name\": \"get_weather\",\n",
    "            \"description\": \"A function to get the weather of a city\",\n",
    "            \"parameters\": {\n",
    "                \"type\": \"object\",\n",
    "                \"properties\": {\n",
    "                    \"city\": {\n",
    "                        \"type\": \"string\",\n",
    "                        \"description\": \"The name of the city to get the weather of.\",\n",
    "                    },\n",
    "                },\n",
    "                \"required\": [\"city\"],\n",
    "            }\n",
    "        }\n",
    "    }\n",
    "]"
   ],
   "id": "b81629406fcfd38d",
   "outputs": [],
   "execution_count": 60
  },
  {
   "metadata": {
    "ExecuteTime": {
     "end_time": "2025-10-26T09:03:18.191022Z",
     "start_time": "2025-10-26T09:03:18.187532Z"
    }
   },
   "cell_type": "code",
   "source": [
    "def process_ai_response(message: ChatCompletionMessage):\n",
    "\n",
    "    if message.tool_calls:\n",
    "        messages.append({\n",
    "            \"role\": \"assistant\",\n",
    "            \"content\": message.content or \"\",\n",
    "            \"tool_calls\": [\n",
    "                {\n",
    "                    \"id\": tool_call.id,\n",
    "                    \"type\": \"function\",\n",
    "                    \"function\": {\n",
    "                        \"name\": tool_call.function.name,\n",
    "                        \"arguments\": tool_call.function.arguments\n",
    "                    }\n",
    "                } for tool_call in message.tool_calls]\n",
    "        })\n",
    "\n",
    "        for tool_call in message.tool_calls:\n",
    "            function_name = tool_call.function.name\n",
    "            arguments = tool_call.function.arguments\n",
    "\n",
    "            print(f\"Calling function: {function_name} with arguments: {arguments}\")\n",
    "\n",
    "            try:\n",
    "                arguments = json.loads(arguments)\n",
    "            except json.JSONDecodeError:\n",
    "                arguments = {}\n",
    "\n",
    "            function_to_run = FUNCTION_MAP.get(function_name)\n",
    "\n",
    "            result = function_to_run(**arguments)\n",
    "\n",
    "            print(f\"Ran function: {function_name} with arguments: {arguments} and result: {result}\")\n",
    "\n",
    "            messages.append({\n",
    "                \"role\": \"tool\",\n",
    "                \"tool_call_id\": tool_call.id,\n",
    "                \"name\": function_name,\n",
    "                \"content\": result\n",
    "            })\n",
    "\n",
    "        call_ai()\n",
    "    else:\n",
    "        messages.append({\"role\": \"assistant\", \"content\": message.content})\n",
    "        print(f\"AI: {message.content}\")\n"
   ],
   "id": "93a3e32c6d094752",
   "outputs": [],
   "execution_count": 61
  },
  {
   "metadata": {
    "ExecuteTime": {
     "end_time": "2025-10-26T09:03:18.472313Z",
     "start_time": "2025-10-26T09:03:18.469298Z"
    }
   },
   "cell_type": "code",
   "source": [
    "def call_ai():\n",
    "    response = client.chat.completions.create(\n",
    "        model=\"gpt-5-nano\",\n",
    "        messages=messages,\n",
    "        tools=TOOLS\n",
    "    )\n",
    "    process_ai_response(response.choices[0].message)"
   ],
   "id": "59cb67844de446d7",
   "outputs": [],
   "execution_count": 62
  },
  {
   "metadata": {
    "ExecuteTime": {
     "end_time": "2025-10-26T09:04:01.719201Z",
     "start_time": "2025-10-26T09:03:19.410239Z"
    }
   },
   "cell_type": "code",
   "source": [
    "while True:\n",
    "    message = input(\"Send a message to the LLM...\")\n",
    "    if message == 'quit' or message == 'q':\n",
    "        break\n",
    "    else:\n",
    "        messages.append({\"role\": \"user\", \"content\": message})\n",
    "        print(f\"User: {message}\")\n",
    "        call_ai()\n"
   ],
   "id": "e61d26d318c4ac28",
   "outputs": [
    {
     "name": "stdout",
     "output_type": "stream",
     "text": [
      "User: My name is Chaehyeon\n",
      "AI: Nice to meet you, Chaehyeon! How can I help you today? If you’d like, I’ll use your name in our chats. What would you like to do or talk about?\n",
      "User: What is my name?\n",
      "AI: Your name is Chaehyeon. I can use it in our chats if you’d like. Would you like me to address you as Chaehyeon from now on?\n",
      "User: What is the weather in Seoul?\n",
      "Calling function: get_weather with arguments: {\"city\":\"Seoul\"}\n",
      "Ran function: get_weather with arguments: {'city': 'Seoul'} and result: 15 degrees Celsius.\n",
      "AI: Chaehyeon, the current temperature in Seoul is 15°C. Would you like an hourly forecast or more details (e.g., rain chances)?\n"
     ]
    }
   ],
   "execution_count": 63
  },
  {
   "metadata": {
    "ExecuteTime": {
     "end_time": "2025-10-26T09:04:03.159730Z",
     "start_time": "2025-10-26T09:04:03.156759Z"
    }
   },
   "cell_type": "code",
   "source": "messages",
   "id": "1a20a793344c21",
   "outputs": [
    {
     "data": {
      "text/plain": [
       "[{'role': 'user', 'content': 'My name is Chaehyeon'},\n",
       " {'role': 'assistant',\n",
       "  'content': 'Nice to meet you, Chaehyeon! How can I help you today? If you’d like, I’ll use your name in our chats. What would you like to do or talk about?'},\n",
       " {'role': 'user', 'content': 'What is my name?'},\n",
       " {'role': 'assistant',\n",
       "  'content': 'Your name is Chaehyeon. I can use it in our chats if you’d like. Would you like me to address you as Chaehyeon from now on?'},\n",
       " {'role': 'user', 'content': 'What is the weather in Seoul?'},\n",
       " {'role': 'assistant',\n",
       "  'content': '',\n",
       "  'tool_calls': [{'id': 'call_m4kzxZOWvelD5Mc5iVUifI8C',\n",
       "    'type': 'function',\n",
       "    'function': {'name': 'get_weather', 'arguments': '{\"city\":\"Seoul\"}'}}]},\n",
       " {'role': 'tool',\n",
       "  'tool_call_id': 'call_m4kzxZOWvelD5Mc5iVUifI8C',\n",
       "  'name': 'get_weather',\n",
       "  'content': '15 degrees Celsius.'},\n",
       " {'role': 'assistant',\n",
       "  'content': 'Chaehyeon, the current temperature in Seoul is 15°C. Would you like an hourly forecast or more details (e.g., rain chances)?'}]"
      ]
     },
     "execution_count": 64,
     "metadata": {},
     "output_type": "execute_result"
    }
   ],
   "execution_count": 64
  },
  {
   "metadata": {},
   "cell_type": "code",
   "outputs": [],
   "execution_count": null,
   "source": "",
   "id": "10479b7414a3cb4e"
  }
 ],
 "metadata": {
  "kernelspec": {
   "display_name": "Python 3",
   "language": "python",
   "name": "python3"
  },
  "language_info": {
   "codemirror_mode": {
    "name": "ipython",
    "version": 2
   },
   "file_extension": ".py",
   "mimetype": "text/x-python",
   "name": "python",
   "nbconvert_exporter": "python",
   "pygments_lexer": "ipython2",
   "version": "2.7.6"
  }
 },
 "nbformat": 4,
 "nbformat_minor": 5
}
